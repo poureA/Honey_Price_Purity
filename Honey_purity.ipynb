{
 "cells": [
  {
   "cell_type": "code",
   "execution_count": 1,
   "id": "bdec3fa7",
   "metadata": {},
   "outputs": [],
   "source": [
    "from pandas import read_csv , concat , DataFrame\n",
    "from sklearn.preprocessing import LabelEncoder , StandardScaler\n",
    "from sklearn.model_selection import train_test_split\n",
    "from sklearn.ensemble import GradientBoostingRegressor\n",
    "from sklearn.metrics import mean_absolute_error , mean_squared_error\n",
    "encoder = LabelEncoder()\n",
    "scaler = StandardScaler()"
   ]
  },
  {
   "cell_type": "code",
   "execution_count": 2,
   "id": "64ac2a22",
   "metadata": {},
   "outputs": [
    {
     "data": {
      "text/html": [
       "<div>\n",
       "<style scoped>\n",
       "    .dataframe tbody tr th:only-of-type {\n",
       "        vertical-align: middle;\n",
       "    }\n",
       "\n",
       "    .dataframe tbody tr th {\n",
       "        vertical-align: top;\n",
       "    }\n",
       "\n",
       "    .dataframe thead th {\n",
       "        text-align: right;\n",
       "    }\n",
       "</style>\n",
       "<table border=\"1\" class=\"dataframe\">\n",
       "  <thead>\n",
       "    <tr style=\"text-align: right;\">\n",
       "      <th></th>\n",
       "      <th>CS</th>\n",
       "      <th>Density</th>\n",
       "      <th>WC</th>\n",
       "      <th>pH</th>\n",
       "      <th>EC</th>\n",
       "      <th>F</th>\n",
       "      <th>G</th>\n",
       "      <th>Pollen_analysis</th>\n",
       "      <th>Viscosity</th>\n",
       "      <th>Purity</th>\n",
       "      <th>Price</th>\n",
       "    </tr>\n",
       "  </thead>\n",
       "  <tbody>\n",
       "    <tr>\n",
       "      <th>47498</th>\n",
       "      <td>2.69</td>\n",
       "      <td>1.66</td>\n",
       "      <td>23.46</td>\n",
       "      <td>5.93</td>\n",
       "      <td>0.87</td>\n",
       "      <td>45.19</td>\n",
       "      <td>29.32</td>\n",
       "      <td>Sage</td>\n",
       "      <td>6598.87</td>\n",
       "      <td>0.66</td>\n",
       "      <td>612.96</td>\n",
       "    </tr>\n",
       "    <tr>\n",
       "      <th>157018</th>\n",
       "      <td>5.11</td>\n",
       "      <td>1.71</td>\n",
       "      <td>21.04</td>\n",
       "      <td>7.25</td>\n",
       "      <td>0.79</td>\n",
       "      <td>49.92</td>\n",
       "      <td>24.45</td>\n",
       "      <td>Rosemary</td>\n",
       "      <td>2860.68</td>\n",
       "      <td>0.95</td>\n",
       "      <td>714.93</td>\n",
       "    </tr>\n",
       "    <tr>\n",
       "      <th>157778</th>\n",
       "      <td>5.94</td>\n",
       "      <td>1.29</td>\n",
       "      <td>12.08</td>\n",
       "      <td>6.49</td>\n",
       "      <td>0.75</td>\n",
       "      <td>34.35</td>\n",
       "      <td>30.17</td>\n",
       "      <td>Orange Blossom</td>\n",
       "      <td>2754.77</td>\n",
       "      <td>0.99</td>\n",
       "      <td>249.37</td>\n",
       "    </tr>\n",
       "    <tr>\n",
       "      <th>135800</th>\n",
       "      <td>9.42</td>\n",
       "      <td>1.70</td>\n",
       "      <td>21.74</td>\n",
       "      <td>6.59</td>\n",
       "      <td>0.71</td>\n",
       "      <td>32.54</td>\n",
       "      <td>27.41</td>\n",
       "      <td>Eucalyptus</td>\n",
       "      <td>2050.75</td>\n",
       "      <td>0.66</td>\n",
       "      <td>454.72</td>\n",
       "    </tr>\n",
       "    <tr>\n",
       "      <th>135045</th>\n",
       "      <td>8.35</td>\n",
       "      <td>1.74</td>\n",
       "      <td>23.40</td>\n",
       "      <td>2.96</td>\n",
       "      <td>0.86</td>\n",
       "      <td>34.69</td>\n",
       "      <td>25.60</td>\n",
       "      <td>Thyme</td>\n",
       "      <td>8662.45</td>\n",
       "      <td>0.68</td>\n",
       "      <td>624.62</td>\n",
       "    </tr>\n",
       "    <tr>\n",
       "      <th>87899</th>\n",
       "      <td>4.35</td>\n",
       "      <td>1.57</td>\n",
       "      <td>18.63</td>\n",
       "      <td>3.96</td>\n",
       "      <td>0.76</td>\n",
       "      <td>34.12</td>\n",
       "      <td>24.50</td>\n",
       "      <td>Wildflower</td>\n",
       "      <td>5433.74</td>\n",
       "      <td>0.82</td>\n",
       "      <td>262.90</td>\n",
       "    </tr>\n",
       "    <tr>\n",
       "      <th>127705</th>\n",
       "      <td>9.03</td>\n",
       "      <td>1.54</td>\n",
       "      <td>20.40</td>\n",
       "      <td>6.64</td>\n",
       "      <td>0.85</td>\n",
       "      <td>46.33</td>\n",
       "      <td>22.16</td>\n",
       "      <td>Sage</td>\n",
       "      <td>7966.22</td>\n",
       "      <td>0.64</td>\n",
       "      <td>589.79</td>\n",
       "    </tr>\n",
       "    <tr>\n",
       "      <th>48398</th>\n",
       "      <td>1.90</td>\n",
       "      <td>1.64</td>\n",
       "      <td>15.36</td>\n",
       "      <td>3.09</td>\n",
       "      <td>0.87</td>\n",
       "      <td>36.33</td>\n",
       "      <td>24.44</td>\n",
       "      <td>Acacia</td>\n",
       "      <td>8474.85</td>\n",
       "      <td>0.82</td>\n",
       "      <td>443.87</td>\n",
       "    </tr>\n",
       "    <tr>\n",
       "      <th>34231</th>\n",
       "      <td>8.98</td>\n",
       "      <td>1.39</td>\n",
       "      <td>16.66</td>\n",
       "      <td>3.38</td>\n",
       "      <td>0.88</td>\n",
       "      <td>32.55</td>\n",
       "      <td>34.67</td>\n",
       "      <td>Wildflower</td>\n",
       "      <td>8944.40</td>\n",
       "      <td>1.00</td>\n",
       "      <td>321.85</td>\n",
       "    </tr>\n",
       "    <tr>\n",
       "      <th>164094</th>\n",
       "      <td>7.56</td>\n",
       "      <td>1.72</td>\n",
       "      <td>14.65</td>\n",
       "      <td>2.56</td>\n",
       "      <td>0.88</td>\n",
       "      <td>32.05</td>\n",
       "      <td>31.45</td>\n",
       "      <td>Thyme</td>\n",
       "      <td>5825.55</td>\n",
       "      <td>0.68</td>\n",
       "      <td>624.62</td>\n",
       "    </tr>\n",
       "  </tbody>\n",
       "</table>\n",
       "</div>"
      ],
      "text/plain": [
       "          CS  Density     WC    pH    EC      F      G Pollen_analysis  \\\n",
       "47498   2.69     1.66  23.46  5.93  0.87  45.19  29.32            Sage   \n",
       "157018  5.11     1.71  21.04  7.25  0.79  49.92  24.45        Rosemary   \n",
       "157778  5.94     1.29  12.08  6.49  0.75  34.35  30.17  Orange Blossom   \n",
       "135800  9.42     1.70  21.74  6.59  0.71  32.54  27.41      Eucalyptus   \n",
       "135045  8.35     1.74  23.40  2.96  0.86  34.69  25.60           Thyme   \n",
       "87899   4.35     1.57  18.63  3.96  0.76  34.12  24.50      Wildflower   \n",
       "127705  9.03     1.54  20.40  6.64  0.85  46.33  22.16            Sage   \n",
       "48398   1.90     1.64  15.36  3.09  0.87  36.33  24.44          Acacia   \n",
       "34231   8.98     1.39  16.66  3.38  0.88  32.55  34.67      Wildflower   \n",
       "164094  7.56     1.72  14.65  2.56  0.88  32.05  31.45           Thyme   \n",
       "\n",
       "        Viscosity  Purity   Price  \n",
       "47498     6598.87    0.66  612.96  \n",
       "157018    2860.68    0.95  714.93  \n",
       "157778    2754.77    0.99  249.37  \n",
       "135800    2050.75    0.66  454.72  \n",
       "135045    8662.45    0.68  624.62  \n",
       "87899     5433.74    0.82  262.90  \n",
       "127705    7966.22    0.64  589.79  \n",
       "48398     8474.85    0.82  443.87  \n",
       "34231     8944.40    1.00  321.85  \n",
       "164094    5825.55    0.68  624.62  "
      ]
     },
     "execution_count": 2,
     "metadata": {},
     "output_type": "execute_result"
    }
   ],
   "source": [
    "file = read_csv(\"D:\\\\datasets\\\\honey_purity_dataset\\\\honey_purity_dataset.csv\")\n",
    "df = file.copy()\n",
    "df.sample(10)"
   ]
  },
  {
   "cell_type": "code",
   "execution_count": 3,
   "id": "0d80fb22",
   "metadata": {},
   "outputs": [
    {
     "name": "stdout",
     "output_type": "stream",
     "text": [
      "<class 'pandas.core.frame.DataFrame'>\n",
      "RangeIndex: 247903 entries, 0 to 247902\n",
      "Data columns (total 11 columns):\n",
      " #   Column           Non-Null Count   Dtype  \n",
      "---  ------           --------------   -----  \n",
      " 0   CS               247903 non-null  float64\n",
      " 1   Density          247903 non-null  float64\n",
      " 2   WC               247903 non-null  float64\n",
      " 3   pH               247903 non-null  float64\n",
      " 4   EC               247903 non-null  float64\n",
      " 5   F                247903 non-null  float64\n",
      " 6   G                247903 non-null  float64\n",
      " 7   Pollen_analysis  247903 non-null  object \n",
      " 8   Viscosity        247903 non-null  float64\n",
      " 9   Purity           247903 non-null  float64\n",
      " 10  Price            247903 non-null  float64\n",
      "dtypes: float64(10), object(1)\n",
      "memory usage: 20.8+ MB\n"
     ]
    }
   ],
   "source": [
    "df = df.drop_duplicates()\n",
    "df.info()"
   ]
  },
  {
   "cell_type": "code",
   "execution_count": 4,
   "id": "cef89f52",
   "metadata": {},
   "outputs": [
    {
     "data": {
      "text/html": [
       "<div>\n",
       "<style scoped>\n",
       "    .dataframe tbody tr th:only-of-type {\n",
       "        vertical-align: middle;\n",
       "    }\n",
       "\n",
       "    .dataframe tbody tr th {\n",
       "        vertical-align: top;\n",
       "    }\n",
       "\n",
       "    .dataframe thead th {\n",
       "        text-align: right;\n",
       "    }\n",
       "</style>\n",
       "<table border=\"1\" class=\"dataframe\">\n",
       "  <thead>\n",
       "    <tr style=\"text-align: right;\">\n",
       "      <th></th>\n",
       "      <th>CS</th>\n",
       "      <th>Density</th>\n",
       "      <th>WC</th>\n",
       "      <th>pH</th>\n",
       "      <th>EC</th>\n",
       "      <th>F</th>\n",
       "      <th>G</th>\n",
       "      <th>Viscosity</th>\n",
       "      <th>Purity</th>\n",
       "      <th>Price</th>\n",
       "    </tr>\n",
       "  </thead>\n",
       "  <tbody>\n",
       "    <tr>\n",
       "      <th>count</th>\n",
       "      <td>247903.000000</td>\n",
       "      <td>247903.000000</td>\n",
       "      <td>247903.000000</td>\n",
       "      <td>247903.000000</td>\n",
       "      <td>247903.000000</td>\n",
       "      <td>247903.000000</td>\n",
       "      <td>247903.000000</td>\n",
       "      <td>247903.000000</td>\n",
       "      <td>247903.000000</td>\n",
       "      <td>247903.000000</td>\n",
       "    </tr>\n",
       "    <tr>\n",
       "      <th>mean</th>\n",
       "      <td>5.500259</td>\n",
       "      <td>1.535523</td>\n",
       "      <td>18.502625</td>\n",
       "      <td>4.996047</td>\n",
       "      <td>0.799974</td>\n",
       "      <td>34.970573</td>\n",
       "      <td>32.501006</td>\n",
       "      <td>5752.893888</td>\n",
       "      <td>0.824471</td>\n",
       "      <td>594.807644</td>\n",
       "    </tr>\n",
       "    <tr>\n",
       "      <th>std</th>\n",
       "      <td>2.593947</td>\n",
       "      <td>0.187824</td>\n",
       "      <td>3.748635</td>\n",
       "      <td>1.444060</td>\n",
       "      <td>0.057911</td>\n",
       "      <td>8.655898</td>\n",
       "      <td>7.226290</td>\n",
       "      <td>2455.739903</td>\n",
       "      <td>0.139417</td>\n",
       "      <td>233.627972</td>\n",
       "    </tr>\n",
       "    <tr>\n",
       "      <th>min</th>\n",
       "      <td>1.000000</td>\n",
       "      <td>1.210000</td>\n",
       "      <td>12.000000</td>\n",
       "      <td>2.500000</td>\n",
       "      <td>0.700000</td>\n",
       "      <td>20.000000</td>\n",
       "      <td>20.000000</td>\n",
       "      <td>1500.050000</td>\n",
       "      <td>0.610000</td>\n",
       "      <td>128.720000</td>\n",
       "    </tr>\n",
       "    <tr>\n",
       "      <th>25%</th>\n",
       "      <td>3.260000</td>\n",
       "      <td>1.370000</td>\n",
       "      <td>15.260000</td>\n",
       "      <td>3.750000</td>\n",
       "      <td>0.750000</td>\n",
       "      <td>27.460000</td>\n",
       "      <td>26.230000</td>\n",
       "      <td>3627.880000</td>\n",
       "      <td>0.660000</td>\n",
       "      <td>433.000000</td>\n",
       "    </tr>\n",
       "    <tr>\n",
       "      <th>50%</th>\n",
       "      <td>5.500000</td>\n",
       "      <td>1.540000</td>\n",
       "      <td>18.510000</td>\n",
       "      <td>4.990000</td>\n",
       "      <td>0.800000</td>\n",
       "      <td>34.970000</td>\n",
       "      <td>32.490000</td>\n",
       "      <td>5753.770000</td>\n",
       "      <td>0.820000</td>\n",
       "      <td>612.960000</td>\n",
       "    </tr>\n",
       "    <tr>\n",
       "      <th>75%</th>\n",
       "      <td>7.740000</td>\n",
       "      <td>1.700000</td>\n",
       "      <td>21.750000</td>\n",
       "      <td>6.250000</td>\n",
       "      <td>0.850000</td>\n",
       "      <td>42.470000</td>\n",
       "      <td>38.760000</td>\n",
       "      <td>7886.650000</td>\n",
       "      <td>0.970000</td>\n",
       "      <td>770.220000</td>\n",
       "    </tr>\n",
       "    <tr>\n",
       "      <th>max</th>\n",
       "      <td>10.000000</td>\n",
       "      <td>1.860000</td>\n",
       "      <td>25.000000</td>\n",
       "      <td>7.500000</td>\n",
       "      <td>0.900000</td>\n",
       "      <td>50.000000</td>\n",
       "      <td>45.000000</td>\n",
       "      <td>9999.970000</td>\n",
       "      <td>1.000000</td>\n",
       "      <td>976.690000</td>\n",
       "    </tr>\n",
       "  </tbody>\n",
       "</table>\n",
       "</div>"
      ],
      "text/plain": [
       "                  CS        Density             WC             pH  \\\n",
       "count  247903.000000  247903.000000  247903.000000  247903.000000   \n",
       "mean        5.500259       1.535523      18.502625       4.996047   \n",
       "std         2.593947       0.187824       3.748635       1.444060   \n",
       "min         1.000000       1.210000      12.000000       2.500000   \n",
       "25%         3.260000       1.370000      15.260000       3.750000   \n",
       "50%         5.500000       1.540000      18.510000       4.990000   \n",
       "75%         7.740000       1.700000      21.750000       6.250000   \n",
       "max        10.000000       1.860000      25.000000       7.500000   \n",
       "\n",
       "                  EC              F              G      Viscosity  \\\n",
       "count  247903.000000  247903.000000  247903.000000  247903.000000   \n",
       "mean        0.799974      34.970573      32.501006    5752.893888   \n",
       "std         0.057911       8.655898       7.226290    2455.739903   \n",
       "min         0.700000      20.000000      20.000000    1500.050000   \n",
       "25%         0.750000      27.460000      26.230000    3627.880000   \n",
       "50%         0.800000      34.970000      32.490000    5753.770000   \n",
       "75%         0.850000      42.470000      38.760000    7886.650000   \n",
       "max         0.900000      50.000000      45.000000    9999.970000   \n",
       "\n",
       "              Purity          Price  \n",
       "count  247903.000000  247903.000000  \n",
       "mean        0.824471     594.807644  \n",
       "std         0.139417     233.627972  \n",
       "min         0.610000     128.720000  \n",
       "25%         0.660000     433.000000  \n",
       "50%         0.820000     612.960000  \n",
       "75%         0.970000     770.220000  \n",
       "max         1.000000     976.690000  "
      ]
     },
     "execution_count": 4,
     "metadata": {},
     "output_type": "execute_result"
    }
   ],
   "source": [
    "df.describe()"
   ]
  },
  {
   "cell_type": "code",
   "execution_count": 5,
   "id": "41b7d57e",
   "metadata": {},
   "outputs": [
    {
     "data": {
      "text/plain": [
       "array(['Blueberry', 'Alfalfa', 'Chestnut', 'Borage', 'Sunflower',\n",
       "       'Orange Blossom', 'Acacia', 'Tupelo', 'Clover', 'Wildflower',\n",
       "       'Thyme', 'Sage', 'Avocado', 'Lavender', 'Eucalyptus', 'Buckwheat',\n",
       "       'Rosemary', 'Heather', 'Manuka'], dtype=object)"
      ]
     },
     "execution_count": 5,
     "metadata": {},
     "output_type": "execute_result"
    }
   ],
   "source": [
    "df.Pollen_analysis.unique()"
   ]
  },
  {
   "cell_type": "code",
   "execution_count": 6,
   "id": "0cd9a5f5",
   "metadata": {},
   "outputs": [],
   "source": [
    "Pollen_analysis = df.Pollen_analysis\n",
    "df = df.drop(['Pollen_analysis'],axis=1)"
   ]
  },
  {
   "cell_type": "code",
   "execution_count": 7,
   "id": "3d8d06bb",
   "metadata": {},
   "outputs": [
    {
     "name": "stdout",
     "output_type": "stream",
     "text": [
      "Purity       1.000000\n",
      "Price        0.432581\n",
      "CS           0.079770\n",
      "Viscosity    0.012572\n",
      "EC           0.000151\n",
      "G            0.000059\n",
      "F           -0.001149\n",
      "WC          -0.028894\n",
      "Density     -0.108834\n",
      "pH          -0.230855\n",
      "Name: Purity, dtype: float64\n",
      "------------------------------------\n",
      "Price        1.000000\n",
      "Purity       0.432581\n",
      "CS           0.035166\n",
      "Viscosity    0.009632\n",
      "EC          -0.000571\n",
      "F           -0.002041\n",
      "G           -0.004815\n",
      "WC          -0.014381\n",
      "Density     -0.050518\n",
      "pH          -0.100714\n",
      "Name: Price, dtype: float64\n"
     ]
    }
   ],
   "source": [
    "Corr = df.corr()\n",
    "print(Corr['Purity'].sort_values(ascending=False))\n",
    "print('------------------------------------')\n",
    "print(Corr['Price'].sort_values(ascending=False))"
   ]
  },
  {
   "cell_type": "code",
   "execution_count": 8,
   "id": "75c36b8d",
   "metadata": {},
   "outputs": [
    {
     "name": "stdout",
     "output_type": "stream",
     "text": [
      "<class 'pandas.core.frame.DataFrame'>\n",
      "RangeIndex: 247903 entries, 0 to 247902\n",
      "Data columns (total 9 columns):\n",
      " #   Column           Non-Null Count   Dtype  \n",
      "---  ------           --------------   -----  \n",
      " 0   CS               247903 non-null  float64\n",
      " 1   Density          247903 non-null  float64\n",
      " 2   WC               247903 non-null  float64\n",
      " 3   pH               247903 non-null  float64\n",
      " 4   EC               247903 non-null  float64\n",
      " 5   F                247903 non-null  float64\n",
      " 6   G                247903 non-null  float64\n",
      " 7   Viscosity        247903 non-null  float64\n",
      " 8   Pollen_analysis  247903 non-null  int32  \n",
      "dtypes: float64(8), int32(1)\n",
      "memory usage: 16.1 MB\n"
     ]
    }
   ],
   "source": [
    "lbl_pur = df.Purity\n",
    "lbl_price = df.Price\n",
    "df = df.drop(['Purity','Price'],axis=1)\n",
    "encoded_Pollen_analysis = DataFrame(encoder.fit_transform(Pollen_analysis),columns=['Pollen_analysis'])\n",
    "final = concat([df,encoded_Pollen_analysis],axis=1)\n",
    "final.info()"
   ]
  },
  {
   "cell_type": "code",
   "execution_count": 9,
   "id": "5cd39457",
   "metadata": {},
   "outputs": [],
   "source": [
    "scaled_df = DataFrame(scaler.fit_transform(final),columns=final.columns)"
   ]
  },
  {
   "cell_type": "code",
   "execution_count": 10,
   "id": "c1c3905a",
   "metadata": {},
   "outputs": [],
   "source": [
    "xtr , xts , ytr , yts = train_test_split(scaled_df,lbl_pur,test_size=0.2,random_state=32)"
   ]
  },
  {
   "cell_type": "code",
   "execution_count": 11,
   "id": "8afe24a1",
   "metadata": {},
   "outputs": [],
   "source": [
    "model = GradientBoostingRegressor()"
   ]
  },
  {
   "cell_type": "code",
   "execution_count": 12,
   "id": "7856351f",
   "metadata": {},
   "outputs": [
    {
     "data": {
      "text/html": [
       "<style>#sk-container-id-1 {color: black;}#sk-container-id-1 pre{padding: 0;}#sk-container-id-1 div.sk-toggleable {background-color: white;}#sk-container-id-1 label.sk-toggleable__label {cursor: pointer;display: block;width: 100%;margin-bottom: 0;padding: 0.3em;box-sizing: border-box;text-align: center;}#sk-container-id-1 label.sk-toggleable__label-arrow:before {content: \"▸\";float: left;margin-right: 0.25em;color: #696969;}#sk-container-id-1 label.sk-toggleable__label-arrow:hover:before {color: black;}#sk-container-id-1 div.sk-estimator:hover label.sk-toggleable__label-arrow:before {color: black;}#sk-container-id-1 div.sk-toggleable__content {max-height: 0;max-width: 0;overflow: hidden;text-align: left;background-color: #f0f8ff;}#sk-container-id-1 div.sk-toggleable__content pre {margin: 0.2em;color: black;border-radius: 0.25em;background-color: #f0f8ff;}#sk-container-id-1 input.sk-toggleable__control:checked~div.sk-toggleable__content {max-height: 200px;max-width: 100%;overflow: auto;}#sk-container-id-1 input.sk-toggleable__control:checked~label.sk-toggleable__label-arrow:before {content: \"▾\";}#sk-container-id-1 div.sk-estimator input.sk-toggleable__control:checked~label.sk-toggleable__label {background-color: #d4ebff;}#sk-container-id-1 div.sk-label input.sk-toggleable__control:checked~label.sk-toggleable__label {background-color: #d4ebff;}#sk-container-id-1 input.sk-hidden--visually {border: 0;clip: rect(1px 1px 1px 1px);clip: rect(1px, 1px, 1px, 1px);height: 1px;margin: -1px;overflow: hidden;padding: 0;position: absolute;width: 1px;}#sk-container-id-1 div.sk-estimator {font-family: monospace;background-color: #f0f8ff;border: 1px dotted black;border-radius: 0.25em;box-sizing: border-box;margin-bottom: 0.5em;}#sk-container-id-1 div.sk-estimator:hover {background-color: #d4ebff;}#sk-container-id-1 div.sk-parallel-item::after {content: \"\";width: 100%;border-bottom: 1px solid gray;flex-grow: 1;}#sk-container-id-1 div.sk-label:hover label.sk-toggleable__label {background-color: #d4ebff;}#sk-container-id-1 div.sk-serial::before {content: \"\";position: absolute;border-left: 1px solid gray;box-sizing: border-box;top: 0;bottom: 0;left: 50%;z-index: 0;}#sk-container-id-1 div.sk-serial {display: flex;flex-direction: column;align-items: center;background-color: white;padding-right: 0.2em;padding-left: 0.2em;position: relative;}#sk-container-id-1 div.sk-item {position: relative;z-index: 1;}#sk-container-id-1 div.sk-parallel {display: flex;align-items: stretch;justify-content: center;background-color: white;position: relative;}#sk-container-id-1 div.sk-item::before, #sk-container-id-1 div.sk-parallel-item::before {content: \"\";position: absolute;border-left: 1px solid gray;box-sizing: border-box;top: 0;bottom: 0;left: 50%;z-index: -1;}#sk-container-id-1 div.sk-parallel-item {display: flex;flex-direction: column;z-index: 1;position: relative;background-color: white;}#sk-container-id-1 div.sk-parallel-item:first-child::after {align-self: flex-end;width: 50%;}#sk-container-id-1 div.sk-parallel-item:last-child::after {align-self: flex-start;width: 50%;}#sk-container-id-1 div.sk-parallel-item:only-child::after {width: 0;}#sk-container-id-1 div.sk-dashed-wrapped {border: 1px dashed gray;margin: 0 0.4em 0.5em 0.4em;box-sizing: border-box;padding-bottom: 0.4em;background-color: white;}#sk-container-id-1 div.sk-label label {font-family: monospace;font-weight: bold;display: inline-block;line-height: 1.2em;}#sk-container-id-1 div.sk-label-container {text-align: center;}#sk-container-id-1 div.sk-container {/* jupyter's `normalize.less` sets `[hidden] { display: none; }` but bootstrap.min.css set `[hidden] { display: none !important; }` so we also need the `!important` here to be able to override the default hidden behavior on the sphinx rendered scikit-learn.org. See: https://github.com/scikit-learn/scikit-learn/issues/21755 */display: inline-block !important;position: relative;}#sk-container-id-1 div.sk-text-repr-fallback {display: none;}</style><div id=\"sk-container-id-1\" class=\"sk-top-container\"><div class=\"sk-text-repr-fallback\"><pre>GradientBoostingRegressor()</pre><b>In a Jupyter environment, please rerun this cell to show the HTML representation or trust the notebook. <br />On GitHub, the HTML representation is unable to render, please try loading this page with nbviewer.org.</b></div><div class=\"sk-container\" hidden><div class=\"sk-item\"><div class=\"sk-estimator sk-toggleable\"><input class=\"sk-toggleable__control sk-hidden--visually\" id=\"sk-estimator-id-1\" type=\"checkbox\" checked><label for=\"sk-estimator-id-1\" class=\"sk-toggleable__label sk-toggleable__label-arrow\">GradientBoostingRegressor</label><div class=\"sk-toggleable__content\"><pre>GradientBoostingRegressor()</pre></div></div></div></div></div>"
      ],
      "text/plain": [
       "GradientBoostingRegressor()"
      ]
     },
     "execution_count": 12,
     "metadata": {},
     "output_type": "execute_result"
    }
   ],
   "source": [
    "model.fit(xtr,ytr)"
   ]
  },
  {
   "cell_type": "markdown",
   "id": "a622ade8",
   "metadata": {},
   "source": [
    "model's performance Purity column"
   ]
  },
  {
   "cell_type": "code",
   "execution_count": 13,
   "id": "c44ffa40",
   "metadata": {},
   "outputs": [
    {
     "name": "stdout",
     "output_type": "stream",
     "text": [
      "mae : 0.020055186535096782\n",
      "mse :0.0008855111750323575\n"
     ]
    }
   ],
   "source": [
    "preds = model.predict(xtr)\n",
    "mae = mean_absolute_error(ytr,preds)\n",
    "mse = mean_squared_error(ytr,preds)\n",
    "print(f'mae : {mae}\\nmse :{mse}')"
   ]
  },
  {
   "cell_type": "code",
   "execution_count": 14,
   "id": "0887418b",
   "metadata": {},
   "outputs": [
    {
     "name": "stdout",
     "output_type": "stream",
     "text": [
      "mae : 0.02004810824197721\n",
      "mse :0.0008884496798345658\n"
     ]
    }
   ],
   "source": [
    "preds = model.predict(xts)\n",
    "mae = mean_absolute_error(yts,preds)\n",
    "mse = mean_squared_error(yts,preds)\n",
    "print(f'mae : {mae}\\nmse :{mse}')"
   ]
  },
  {
   "cell_type": "markdown",
   "id": "2c882486",
   "metadata": {},
   "source": [
    "Model's performance on Price column"
   ]
  },
  {
   "cell_type": "code",
   "execution_count": 15,
   "id": "0238b669",
   "metadata": {},
   "outputs": [],
   "source": [
    "xtr , xts , ytr , yts = train_test_split(scaled_df,lbl_price,test_size=0.2,random_state=32)"
   ]
  },
  {
   "cell_type": "code",
   "execution_count": 16,
   "id": "c62dce60",
   "metadata": {},
   "outputs": [
    {
     "data": {
      "text/html": [
       "<style>#sk-container-id-2 {color: black;}#sk-container-id-2 pre{padding: 0;}#sk-container-id-2 div.sk-toggleable {background-color: white;}#sk-container-id-2 label.sk-toggleable__label {cursor: pointer;display: block;width: 100%;margin-bottom: 0;padding: 0.3em;box-sizing: border-box;text-align: center;}#sk-container-id-2 label.sk-toggleable__label-arrow:before {content: \"▸\";float: left;margin-right: 0.25em;color: #696969;}#sk-container-id-2 label.sk-toggleable__label-arrow:hover:before {color: black;}#sk-container-id-2 div.sk-estimator:hover label.sk-toggleable__label-arrow:before {color: black;}#sk-container-id-2 div.sk-toggleable__content {max-height: 0;max-width: 0;overflow: hidden;text-align: left;background-color: #f0f8ff;}#sk-container-id-2 div.sk-toggleable__content pre {margin: 0.2em;color: black;border-radius: 0.25em;background-color: #f0f8ff;}#sk-container-id-2 input.sk-toggleable__control:checked~div.sk-toggleable__content {max-height: 200px;max-width: 100%;overflow: auto;}#sk-container-id-2 input.sk-toggleable__control:checked~label.sk-toggleable__label-arrow:before {content: \"▾\";}#sk-container-id-2 div.sk-estimator input.sk-toggleable__control:checked~label.sk-toggleable__label {background-color: #d4ebff;}#sk-container-id-2 div.sk-label input.sk-toggleable__control:checked~label.sk-toggleable__label {background-color: #d4ebff;}#sk-container-id-2 input.sk-hidden--visually {border: 0;clip: rect(1px 1px 1px 1px);clip: rect(1px, 1px, 1px, 1px);height: 1px;margin: -1px;overflow: hidden;padding: 0;position: absolute;width: 1px;}#sk-container-id-2 div.sk-estimator {font-family: monospace;background-color: #f0f8ff;border: 1px dotted black;border-radius: 0.25em;box-sizing: border-box;margin-bottom: 0.5em;}#sk-container-id-2 div.sk-estimator:hover {background-color: #d4ebff;}#sk-container-id-2 div.sk-parallel-item::after {content: \"\";width: 100%;border-bottom: 1px solid gray;flex-grow: 1;}#sk-container-id-2 div.sk-label:hover label.sk-toggleable__label {background-color: #d4ebff;}#sk-container-id-2 div.sk-serial::before {content: \"\";position: absolute;border-left: 1px solid gray;box-sizing: border-box;top: 0;bottom: 0;left: 50%;z-index: 0;}#sk-container-id-2 div.sk-serial {display: flex;flex-direction: column;align-items: center;background-color: white;padding-right: 0.2em;padding-left: 0.2em;position: relative;}#sk-container-id-2 div.sk-item {position: relative;z-index: 1;}#sk-container-id-2 div.sk-parallel {display: flex;align-items: stretch;justify-content: center;background-color: white;position: relative;}#sk-container-id-2 div.sk-item::before, #sk-container-id-2 div.sk-parallel-item::before {content: \"\";position: absolute;border-left: 1px solid gray;box-sizing: border-box;top: 0;bottom: 0;left: 50%;z-index: -1;}#sk-container-id-2 div.sk-parallel-item {display: flex;flex-direction: column;z-index: 1;position: relative;background-color: white;}#sk-container-id-2 div.sk-parallel-item:first-child::after {align-self: flex-end;width: 50%;}#sk-container-id-2 div.sk-parallel-item:last-child::after {align-self: flex-start;width: 50%;}#sk-container-id-2 div.sk-parallel-item:only-child::after {width: 0;}#sk-container-id-2 div.sk-dashed-wrapped {border: 1px dashed gray;margin: 0 0.4em 0.5em 0.4em;box-sizing: border-box;padding-bottom: 0.4em;background-color: white;}#sk-container-id-2 div.sk-label label {font-family: monospace;font-weight: bold;display: inline-block;line-height: 1.2em;}#sk-container-id-2 div.sk-label-container {text-align: center;}#sk-container-id-2 div.sk-container {/* jupyter's `normalize.less` sets `[hidden] { display: none; }` but bootstrap.min.css set `[hidden] { display: none !important; }` so we also need the `!important` here to be able to override the default hidden behavior on the sphinx rendered scikit-learn.org. See: https://github.com/scikit-learn/scikit-learn/issues/21755 */display: inline-block !important;position: relative;}#sk-container-id-2 div.sk-text-repr-fallback {display: none;}</style><div id=\"sk-container-id-2\" class=\"sk-top-container\"><div class=\"sk-text-repr-fallback\"><pre>GradientBoostingRegressor()</pre><b>In a Jupyter environment, please rerun this cell to show the HTML representation or trust the notebook. <br />On GitHub, the HTML representation is unable to render, please try loading this page with nbviewer.org.</b></div><div class=\"sk-container\" hidden><div class=\"sk-item\"><div class=\"sk-estimator sk-toggleable\"><input class=\"sk-toggleable__control sk-hidden--visually\" id=\"sk-estimator-id-2\" type=\"checkbox\" checked><label for=\"sk-estimator-id-2\" class=\"sk-toggleable__label sk-toggleable__label-arrow\">GradientBoostingRegressor</label><div class=\"sk-toggleable__content\"><pre>GradientBoostingRegressor()</pre></div></div></div></div></div>"
      ],
      "text/plain": [
       "GradientBoostingRegressor()"
      ]
     },
     "execution_count": 16,
     "metadata": {},
     "output_type": "execute_result"
    }
   ],
   "source": [
    "model.fit(xtr,ytr)"
   ]
  },
  {
   "cell_type": "code",
   "execution_count": 17,
   "id": "3a0b6c89",
   "metadata": {},
   "outputs": [
    {
     "name": "stdout",
     "output_type": "stream",
     "text": [
      "mae : 39.66225848332605\n",
      "mse :2625.6027505893408\n"
     ]
    }
   ],
   "source": [
    "preds = model.predict(xtr)\n",
    "mae = mean_absolute_error(ytr,preds)\n",
    "mse = mean_squared_error(ytr,preds)\n",
    "print(f'mae : {mae}\\nmse :{mse}')"
   ]
  },
  {
   "cell_type": "code",
   "execution_count": 18,
   "id": "efe8fc8a",
   "metadata": {},
   "outputs": [
    {
     "name": "stdout",
     "output_type": "stream",
     "text": [
      "mae : 39.678231586242596\n",
      "mse :2628.638298242441\n"
     ]
    }
   ],
   "source": [
    "preds = model.predict(xts)\n",
    "mae = mean_absolute_error(yts,preds)\n",
    "mse = mean_squared_error(yts,preds)\n",
    "print(f'mae : {mae}\\nmse :{mse}')"
   ]
  },
  {
   "cell_type": "code",
   "execution_count": null,
   "id": "754f58ea",
   "metadata": {},
   "outputs": [],
   "source": []
  }
 ],
 "metadata": {
  "kernelspec": {
   "display_name": "Python 3 (ipykernel)",
   "language": "python",
   "name": "python3"
  },
  "language_info": {
   "codemirror_mode": {
    "name": "ipython",
    "version": 3
   },
   "file_extension": ".py",
   "mimetype": "text/x-python",
   "name": "python",
   "nbconvert_exporter": "python",
   "pygments_lexer": "ipython3",
   "version": "3.11.5"
  }
 },
 "nbformat": 4,
 "nbformat_minor": 5
}
